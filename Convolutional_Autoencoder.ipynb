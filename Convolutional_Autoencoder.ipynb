{
  "nbformat": 4,
  "nbformat_minor": 0,
  "metadata": {
    "colab": {
      "provenance": []
    },
    "kernelspec": {
      "name": "python3",
      "display_name": "Python 3"
    },
    "language_info": {
      "name": "python"
    }
  },
  "cells": [
    {
      "cell_type": "code",
      "execution_count": 1,
      "metadata": {
        "colab": {
          "base_uri": "https://localhost:8080/",
          "height": 465
        },
        "id": "XFi4mU88lpy5",
        "outputId": "6ab6e5f9-5241-46d1-f7d4-0df4e309f5d7"
      },
      "outputs": [
        {
          "output_type": "stream",
          "name": "stdout",
          "text": [
            "Downloading data from https://storage.googleapis.com/tensorflow/tf-keras-datasets/mnist.npz\n",
            "\u001b[1m11490434/11490434\u001b[0m \u001b[32m━━━━━━━━━━━━━━━━━━━━\u001b[0m\u001b[37m\u001b[0m \u001b[1m0s\u001b[0m 0us/step\n"
          ]
        },
        {
          "output_type": "stream",
          "name": "stderr",
          "text": [
            "/usr/local/lib/python3.11/dist-packages/keras/src/layers/convolutional/base_conv.py:107: UserWarning: Do not pass an `input_shape`/`input_dim` argument to a layer. When using Sequential models, prefer using an `Input(shape)` object as the first layer in the model instead.\n",
            "  super().__init__(activity_regularizer=activity_regularizer, **kwargs)\n"
          ]
        },
        {
          "output_type": "stream",
          "name": "stdout",
          "text": [
            "\u001b[1m1/1\u001b[0m \u001b[32m━━━━━━━━━━━━━━━━━━━━\u001b[0m\u001b[37m\u001b[0m \u001b[1m0s\u001b[0m 256ms/step\n"
          ]
        },
        {
          "output_type": "display_data",
          "data": {
            "text/plain": [
              "<Figure size 800x400 with 2 Axes>"
            ],
            "image/png": "[encoded data removed]"
          },
          "metadata": {}
        },
        {
          "output_type": "stream",
          "name": "stdout",
          "text": [
            "MSE: 0.008268\n"
          ]
        }
      ],
      "source": [
        "import numpy as np\n",
        "import matplotlib.pyplot as plt\n",
        "from keras.datasets import mnist\n",
        "from keras.models import Sequential\n",
        "from keras.layers import Conv2D, MaxPooling2D, UpSampling2D\n",
        "from sklearn.metrics import mean_squared_error\n",
        "\n",
        "# Load and preprocess data\n",
        "(x_train, _), (x_test, _) = mnist.load_data()\n",
        "x_train, x_test = x_train.astype('float32') / 255, x_test.astype('float32') / 255\n",
        "x_train, x_test = x_train[..., None], x_test[..., None]\n",
        "\n",
        "# Define model\n",
        "model = Sequential([\n",
        "    Conv2D(32, 3, activation='relu', padding='same', input_shape=(28,28,1)),\n",
        "    MaxPooling2D(2, padding='same'),\n",
        "    Conv2D(16, 3, activation='relu', padding='same'),\n",
        "    MaxPooling2D(2, padding='same'),\n",
        "    Conv2D(16, 3, activation='relu', padding='same'),\n",
        "    UpSampling2D(2),\n",
        "    Conv2D(32, 3, activation='relu', padding='same'),\n",
        "    UpSampling2D(2),\n",
        "    Conv2D(1, 3, activation='sigmoid', padding='same')\n",
        "])\n",
        "model.compile(optimizer='adam', loss='binary_crossentropy')\n",
        "model.fit(x_train, x_train, epochs=1, batch_size=256, validation_data=(x_test, x_test), verbose=0)\n",
        "\n",
        "# Predict and visualize\n",
        "idx = np.random.randint(len(x_test))\n",
        "pred = model.predict(x_test[idx:idx+1])[0]\n",
        "\n",
        "plt.figure(figsize=(8,4))\n",
        "plt.subplot(1,2,1)\n",
        "plt.title(\"Original\")\n",
        "plt.imshow(x_test[idx].squeeze(), cmap='gray')\n",
        "plt.axis('off')\n",
        "plt.subplot(1,2,2)\n",
        "plt.title(\"Reconstructed\")\n",
        "plt.imshow(pred.squeeze(), cmap='gray')\n",
        "plt.axis('off')\n",
        "plt.show()\n",
        "\n",
        "# Calculate MSE\n",
        "mse = mean_squared_error(x_test[idx].flatten(), pred.flatten())\n",
        "print(f\"MSE: {mse:.6f}\")\n"
      ]
    }
  ]
}