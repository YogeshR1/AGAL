{
  "nbformat": 4,
  "nbformat_minor": 0,
  "metadata": {
    "colab": {
      "provenance": []
    },
    "kernelspec": {
      "name": "python3",
      "display_name": "Python 3"
    },
    "language_info": {
      "name": "python"
    }
  },
  "cells": [
    {
      "cell_type": "code",
      "execution_count": 1,
      "metadata": {
        "id": "4nzMkDYgfCF3",
        "colab": {
          "base_uri": "https://localhost:8080/"
        },
        "outputId": "7740ae7e-77ab-4689-8d36-c839e5b25047"
      },
      "outputs": [
        {
          "output_type": "stream",
          "name": "stdout",
          "text": [
            "W1:\n",
            " [[ 0.05967142 -0.01382643  0.07476885]\n",
            " [ 0.15230299 -0.02341534 -0.0234137 ]\n",
            " [ 0.16792128  0.07674347 -0.03694744]\n",
            " [ 0.054256   -0.05634177 -0.04657298]] \n",
            "b1: [0.01 0.   0.01] \n",
            "W2:\n",
            " [[ 0.03419623 -0.19132802]\n",
            " [-0.17249178 -0.05622875]\n",
            " [-0.09128311  0.03142473]] \n",
            "b2: [ 0.00562073 -0.00446176]\n"
          ]
        }
      ],
      "source": [
        "#DBM\n",
        "import numpy as np\n",
        "\n",
        "def sigmoid(x): return 1 / (1 + np.exp(-x))\n",
        "def sample(prob): return np.random.binomial(1, prob)\n",
        "def sample_layer(x, W, b):\n",
        "    prob = sigmoid(np.dot(x, W) + b)\n",
        "    return sample(prob), prob\n",
        "\n",
        "def dbm_step(v, W1, b1, W2, b2, lr=0.01):\n",
        "    h1, _ = sample_layer(v, W1, b1)\n",
        "    h2, h2_prob = sample_layer(h1, W2, b2)\n",
        "    h1_rec, _ = sample_layer(h2, W2.T, np.zeros_like(b1))\n",
        "    v_rec, _ = sample_layer(h1_rec, W1.T, np.zeros_like(v))\n",
        "\n",
        "    W1 += lr * (np.outer(v, h1) - np.outer(v_rec, h1_rec))\n",
        "    W2 += lr * (np.outer(h1, h2) - np.outer(h1_rec, h2))\n",
        "    b1 += lr * (h1 - h1_rec)\n",
        "    b2 += lr * (h2 - h2_prob)\n",
        "    return W1, b1, W2, b2\n",
        "\n",
        "# Initialize\n",
        "np.random.seed(42)\n",
        "v = np.array([1, 0, 1, 0])\n",
        "W1, b1 = np.random.randn(4, 3) * 0.1, np.zeros(3)\n",
        "W2, b2 = np.random.randn(3, 2) * 0.1, np.zeros(2)\n",
        "\n",
        "# Training step\n",
        "W1, b1, W2, b2 = dbm_step(v, W1, b1, W2, b2)\n",
        "\n",
        "print(\"W1:\\n\", W1, \"\\nb1:\", b1, \"\\nW2:\\n\", W2, \"\\nb2:\", b2)\n"
      ]
    }
  ]
}