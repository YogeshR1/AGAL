{
  "nbformat": 4,
  "nbformat_minor": 0,
  "metadata": {
    "colab": {
      "provenance": []
    },
    "kernelspec": {
      "name": "python3",
      "display_name": "Python 3"
    },
    "language_info": {
      "name": "python"
    }
  },
  "cells": [
    {
      "cell_type": "code",
      "execution_count": 1,
      "metadata": {
        "colab": {
          "base_uri": "https://localhost:8080/",
          "height": 562
        },
        "id": "tLIhDdxis__8",
        "outputId": "6a1a9c71-8a4b-464a-8de2-ff99e73e2a97"
      },
      "outputs": [
        {
          "output_type": "stream",
          "name": "stderr",
          "text": [
            "100%|██████████| 9.91M/9.91M [00:00<00:00, 54.5MB/s]\n",
            "100%|██████████| 28.9k/28.9k [00:00<00:00, 1.71MB/s]\n",
            "100%|██████████| 1.65M/1.65M [00:00<00:00, 14.2MB/s]\n",
            "100%|██████████| 4.54k/4.54k [00:00<00:00, 6.98MB/s]\n"
          ]
        },
        {
          "output_type": "stream",
          "name": "stdout",
          "text": [
            "Epoch 1: D_loss=1.093, G_loss=0.929\n",
            "Epoch 2: D_loss=1.330, G_loss=1.010\n",
            "Epoch 3: D_loss=0.567, G_loss=1.580\n",
            "Epoch 4: D_loss=0.876, G_loss=1.430\n",
            "Epoch 5: D_loss=1.444, G_loss=0.839\n"
          ]
        },
        {
          "output_type": "display_data",
          "data": {
            "text/plain": [
              "<Figure size 640x480 with 1 Axes>"
            ],
            "image/png": "[encoded data removed]"
          },
          "metadata": {}
        }
      ],
      "source": [
        "import torch, torch.nn as nn, torch.optim as optim\n",
        "from torchvision import datasets, transforms\n",
        "from torch.utils.data import DataLoader\n",
        "import matplotlib.pyplot as plt\n",
        "\n",
        "# Data loader setup\n",
        "data = DataLoader(datasets.MNIST('.', train=True, download=True,\n",
        "    transform=transforms.Compose([\n",
        "        transforms.ToTensor(),\n",
        "        transforms.Normalize((0.5,), (0.5,))\n",
        "    ])), batch_size=64, shuffle=True)\n",
        "\n",
        "# Generator Model\n",
        "G = nn.Sequential(\n",
        "    nn.Linear(100, 256),\n",
        "    nn.ReLU(),\n",
        "    nn.Linear(256, 784),\n",
        "    nn.Tanh()\n",
        ")\n",
        "\n",
        "# Discriminator Model\n",
        "D = nn.Sequential(\n",
        "    nn.Linear(784, 256),\n",
        "    nn.LeakyReLU(0.2),\n",
        "    nn.Linear(256, 1),\n",
        "    nn.Sigmoid()\n",
        ")\n",
        "\n",
        "# Optimizers and loss function\n",
        "opt_G = optim.Adam(G.parameters(), lr=2e-4)\n",
        "opt_D = optim.Adam(D.parameters(), lr=2e-4)\n",
        "loss = nn.BCELoss()\n",
        "\n",
        "# Training loop\n",
        "for epoch in range(5):\n",
        "    for real, _ in data:\n",
        "        real = real.view(-1, 784)\n",
        "        z = torch.randn(real.size(0), 100)\n",
        "        fake = G(z)\n",
        "\n",
        "        # Discriminator training\n",
        "        loss_D = loss(D(real), torch.ones(real.size(0), 1)) + \\\n",
        "                 loss(D(fake.detach()), torch.zeros(real.size(0), 1))\n",
        "        opt_D.zero_grad()\n",
        "        loss_D.backward()\n",
        "        opt_D.step()\n",
        "\n",
        "        # Generator training\n",
        "        loss_G = loss(D(fake), torch.ones(real.size(0), 1))\n",
        "        opt_G.zero_grad()\n",
        "        loss_G.backward()\n",
        "        opt_G.step()\n",
        "\n",
        "    print(f\"Epoch {epoch+1}: D_loss={loss_D.item():.3f}, G_loss={loss_G.item():.3f}\")\n",
        "\n",
        "# Generate and show sample image\n",
        "img = G(torch.randn(1, 100)).view(28, 28).detach()\n",
        "plt.imshow(img, cmap='gray')\n",
        "plt.axis('off')\n",
        "plt.show()\n"
      ]
    }
  ]
}