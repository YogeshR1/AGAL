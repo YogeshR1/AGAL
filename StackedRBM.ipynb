{
  "nbformat": 4,
  "nbformat_minor": 0,
  "metadata": {
    "colab": {
      "provenance": []
    },
    "kernelspec": {
      "name": "python3",
      "display_name": "Python 3"
    },
    "language_info": {
      "name": "python"
    }
  },
  "cells": [
    {
      "cell_type": "code",
      "execution_count": 1,
      "metadata": {
        "colab": {
          "base_uri": "https://localhost:8080/"
        },
        "id": "FZA139nfJ8F_",
        "outputId": "cb486a28-091e-4465-a8a9-f517b44e9e02"
      },
      "outputs": [
        {
          "output_type": "stream",
          "name": "stdout",
          "text": [
            "\n",
            "--- Classification Report ---\n",
            "              precision    recall  f1-score   support\n",
            "\n",
            "           0       0.97      0.94      0.95        33\n",
            "           1       0.73      0.79      0.76        28\n",
            "           2       0.88      0.85      0.86        33\n",
            "           3       0.79      0.76      0.78        34\n",
            "           4       0.96      1.00      0.98        46\n",
            "           5       0.81      0.72      0.76        47\n",
            "           6       0.97      0.97      0.97        35\n",
            "           7       0.81      0.88      0.85        34\n",
            "           8       0.77      0.57      0.65        30\n",
            "           9       0.59      0.72      0.65        40\n",
            "\n",
            "    accuracy                           0.82       360\n",
            "   macro avg       0.83      0.82      0.82       360\n",
            "weighted avg       0.83      0.82      0.82       360\n",
            "\n",
            "\n",
            "--- First 20 Predictions ---\n",
            "Actual: 6 | Predicted: 6\n",
            "Actual: 9 | Predicted: 9\n",
            "Actual: 3 | Predicted: 3\n",
            "Actual: 7 | Predicted: 7\n",
            "Actual: 2 | Predicted: 2\n",
            "Actual: 1 | Predicted: 2\n",
            "Actual: 5 | Predicted: 5\n",
            "Actual: 2 | Predicted: 3\n",
            "Actual: 5 | Predicted: 5\n",
            "Actual: 2 | Predicted: 2\n",
            "Actual: 1 | Predicted: 1\n",
            "Actual: 9 | Predicted: 4\n",
            "Actual: 4 | Predicted: 4\n",
            "Actual: 0 | Predicted: 0\n",
            "Actual: 4 | Predicted: 4\n",
            "Actual: 2 | Predicted: 2\n",
            "Actual: 3 | Predicted: 3\n",
            "Actual: 7 | Predicted: 7\n",
            "Actual: 8 | Predicted: 9\n",
            "Actual: 8 | Predicted: 8\n"
          ]
        }
      ],
      "source": [
        "#stackedrbm\n",
        "from sklearn.datasets import load_digits\n",
        "from sklearn.neural_network import BernoulliRBM\n",
        "from sklearn.linear_model import LogisticRegression\n",
        "from sklearn.pipeline import Pipeline\n",
        "from sklearn.model_selection import train_test_split\n",
        "from sklearn.metrics import classification_report\n",
        "import numpy as np\n",
        "\n",
        "# Load and preprocess data\n",
        "X, y = load_digits(return_X_y=True)\n",
        "X /= 16.0  # Normalize to [0, 1]\n",
        "X_train, X_test, y_train, y_test = train_test_split(X, y, test_size=0.2, random_state=42)\n",
        "\n",
        "# Build stacked RBM pipeline\n",
        "model = Pipeline([\n",
        "    ('rbm1', BernoulliRBM(n_components=64, learning_rate=0.06, n_iter=20, random_state=0)),\n",
        "    ('rbm2', BernoulliRBM(n_components=32, learning_rate=0.06, n_iter=20, random_state=0)),\n",
        "    ('logistic', LogisticRegression(max_iter=1500))\n",
        "])\n",
        "\n",
        "# Train and evaluate\n",
        "model.fit(X_train, y_train)\n",
        "y_pred = model.predict(X_test)\n",
        "print(\"\\n--- Classification Report ---\")\n",
        "print(classification_report(y_test, y_pred))\n",
        "\n",
        "# Show sample predictions\n",
        "print(\"\\n--- First 20 Predictions ---\")\n",
        "for i in range(20):\n",
        "    print(f\"Actual: {y_test[i]} | Predicted: {y_pred[i]}\")\n"
      ]
    }
  ]
}